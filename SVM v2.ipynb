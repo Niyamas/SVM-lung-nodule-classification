{
 "cells": [
  {
   "cell_type": "markdown",
   "metadata": {},
   "source": [
    "# SVM (no k-fold)\n",
    "\n",
    "### Notes\n",
    "- Nishio et al's \"Computer-aided diagnosis of lung nodule using gradient tree boosting and Bayesian optimization\"\n",
    "- https://www.ncbi.nlm.nih.gov/pmc/articles/PMC5908232/\n",
    "- Uses 64x64x64 images, and LBP-Top for features"
   ]
  },
  {
   "cell_type": "markdown",
   "metadata": {},
   "source": [
    "# Stratified K-fold cross validation\n",
    "\n",
    "- https://machinelearningmastery.com/k-fold-cross-validation/\n",
    "- High variance in my SVM model. Accuracy changes wildly when run multiple times\n",
    "- insight on repeated k-fold -https://stats.stackexchange.com/questions/218060/does-repeated-k-fold-cross-validation-give-the-same-answers-each-time\n",
    "- Selecting the best model in scikit-learn using cross validation - https://www.youtube.com/watch?v=6dbrR-WymjI"
   ]
  },
  {
   "cell_type": "code",
   "execution_count": null,
   "metadata": {
    "collapsed": true
   },
   "outputs": [],
   "source": [
    "import pandas as pd\n",
    "import numpy as np\n",
    "import sklearn as sk\n",
    "import matplotlib.pyplot as plt\n",
    "\n",
    "from sklearn import svm\n",
    "from sklearn.model_selection import train_test_split, StratifiedKFold, cross_val_score, cross_val_predict\n",
    "from sklearn import metrics\n",
    "from sklearn.metrics import roc_auc_score, roc_curve"
   ]
  },
  {
   "cell_type": "code",
   "execution_count": null,
   "metadata": {},
   "outputs": [],
   "source": [
    "# Retrieve feature dataframe (reduced and normalized) from Feature Extraction and PCA.ipynb\n",
    "%store -r feat_reduc_df\n",
    "feat_reduc_df.head()"
   ]
  },
  {
   "cell_type": "code",
   "execution_count": null,
   "metadata": {},
   "outputs": [],
   "source": [
    "# split dataframe into feature and truth label datasets\n",
    "features = feat_reduc_df[feat_reduc_df.columns[:-1]]\n",
    "labels = feat_reduc_df['Truth']\n",
    "\n",
    "# implement stratified k-fold\n",
    "skf = StratifiedKFold(n_splits=8)\n",
    "skf.get_n_splits(features, labels)\n",
    "print(skf)"
   ]
  },
  {
   "cell_type": "code",
   "execution_count": null,
   "metadata": {},
   "outputs": [],
   "source": [
    "clf = svm.SVC(C=1 ,kernel='rbf', probability=True)\n",
    "clf.fit(features, labels)"
   ]
  },
  {
   "cell_type": "code",
   "execution_count": null,
   "metadata": {},
   "outputs": [],
   "source": [
    "scores = (cross_val_score(clf, X=features, y=labels, cv=8, scoring='accuracy'))\n",
    "print(scores)"
   ]
  },
  {
   "cell_type": "code",
   "execution_count": null,
   "metadata": {},
   "outputs": [],
   "source": [
    "# average accuracy among k-folds (out-of-sample accuracy)\n",
    "scores.mean()"
   ]
  },
  {
   "cell_type": "code",
   "execution_count": null,
   "metadata": {},
   "outputs": [],
   "source": [
    "label_score = cross_val_predict(clf, X=features, y=labels, cv=8)\n",
    "len(label_score)"
   ]
  },
  {
   "cell_type": "code",
   "execution_count": null,
   "metadata": {},
   "outputs": [],
   "source": [
    "fpr, tpr, thresholds = roc_curve(y_true=labels , y_score=label_score)\n",
    "plt.plot(fpr, tpr)\n",
    "plt.xlim([0.0, 1.0])\n",
    "plt.ylim([0.0, 1.0])\n",
    "plt.title('ROC Curve')\n",
    "plt.xlabel('False Positive Rate (1 - Specificity)')\n",
    "plt.ylabel('True Positive Rate (Sensitivity)')\n",
    "plt.grid(True)\n",
    "plt.plot([0, 1], [0, 1], linestyle='--', lw=2, color='r',\n",
    "         label='Chance', alpha=0.8)\n",
    "plt.show()"
   ]
  },
  {
   "cell_type": "code",
   "execution_count": null,
   "metadata": {},
   "outputs": [],
   "source": [
    "print('AUC:', roc_auc_score(y_true=labels , y_score=label_score))"
   ]
  },
  {
   "cell_type": "code",
   "execution_count": null,
   "metadata": {
    "collapsed": true
   },
   "outputs": [],
   "source": []
  },
  {
   "cell_type": "markdown",
   "metadata": {},
   "source": [
    "# Stratified K-Fold with ROC and epochs\n",
    "- http://scikit-learn.org/stable/auto_examples/model_selection/plot_roc_crossval.html"
   ]
  },
  {
   "cell_type": "code",
   "execution_count": 36,
   "metadata": {
    "collapsed": true
   },
   "outputs": [],
   "source": [
    "import numpy as np\n",
    "from scipy import interp\n",
    "import matplotlib.pyplot as plt\n",
    "from itertools import cycle\n",
    "\n",
    "from sklearn import svm, datasets\n",
    "from sklearn.metrics import roc_curve, auc\n",
    "from sklearn.model_selection import StratifiedKFold\n",
    "\n",
    "%matplotlib inline"
   ]
  },
  {
   "cell_type": "code",
   "execution_count": 37,
   "metadata": {},
   "outputs": [
    {
     "data": {
      "text/html": [
       "<div>\n",
       "<style>\n",
       "    .dataframe thead tr:only-child th {\n",
       "        text-align: right;\n",
       "    }\n",
       "\n",
       "    .dataframe thead th {\n",
       "        text-align: left;\n",
       "    }\n",
       "\n",
       "    .dataframe tbody tr th {\n",
       "        vertical-align: top;\n",
       "    }\n",
       "</style>\n",
       "<table border=\"1\" class=\"dataframe\">\n",
       "  <thead>\n",
       "    <tr style=\"text-align: right;\">\n",
       "      <th></th>\n",
       "      <th>0</th>\n",
       "      <th>1</th>\n",
       "      <th>2</th>\n",
       "      <th>3</th>\n",
       "      <th>Truth</th>\n",
       "    </tr>\n",
       "  </thead>\n",
       "  <tbody>\n",
       "    <tr>\n",
       "      <th>0</th>\n",
       "      <td>-1.306392</td>\n",
       "      <td>-0.077998</td>\n",
       "      <td>1.397973</td>\n",
       "      <td>1.067861</td>\n",
       "      <td>0</td>\n",
       "    </tr>\n",
       "    <tr>\n",
       "      <th>1</th>\n",
       "      <td>-1.265583</td>\n",
       "      <td>-0.119974</td>\n",
       "      <td>1.226719</td>\n",
       "      <td>1.059346</td>\n",
       "      <td>0</td>\n",
       "    </tr>\n",
       "    <tr>\n",
       "      <th>2</th>\n",
       "      <td>-0.404961</td>\n",
       "      <td>0.290080</td>\n",
       "      <td>1.318471</td>\n",
       "      <td>-0.849168</td>\n",
       "      <td>0</td>\n",
       "    </tr>\n",
       "    <tr>\n",
       "      <th>3</th>\n",
       "      <td>0.132183</td>\n",
       "      <td>-0.547454</td>\n",
       "      <td>0.997631</td>\n",
       "      <td>-0.567614</td>\n",
       "      <td>0</td>\n",
       "    </tr>\n",
       "    <tr>\n",
       "      <th>4</th>\n",
       "      <td>0.461200</td>\n",
       "      <td>1.245188</td>\n",
       "      <td>0.238197</td>\n",
       "      <td>-1.528097</td>\n",
       "      <td>0</td>\n",
       "    </tr>\n",
       "  </tbody>\n",
       "</table>\n",
       "</div>"
      ],
      "text/plain": [
       "          0         1         2         3  Truth\n",
       "0 -1.306392 -0.077998  1.397973  1.067861      0\n",
       "1 -1.265583 -0.119974  1.226719  1.059346      0\n",
       "2 -0.404961  0.290080  1.318471 -0.849168      0\n",
       "3  0.132183 -0.547454  0.997631 -0.567614      0\n",
       "4  0.461200  1.245188  0.238197 -1.528097      0"
      ]
     },
     "execution_count": 37,
     "metadata": {},
     "output_type": "execute_result"
    }
   ],
   "source": [
    "# Retrieve feature dataframe (reduced and normalized) from Feature Extraction and PCA.ipynb\n",
    "%store -r feat_reduc_df\n",
    "feat_reduc_df.head()"
   ]
  },
  {
   "cell_type": "code",
   "execution_count": 38,
   "metadata": {},
   "outputs": [
    {
     "name": "stdout",
     "output_type": "stream",
     "text": [
      "\n",
      " SVC(C=1, cache_size=200, class_weight=None, coef0=0.0,\n",
      "  decision_function_shape='ovr', degree=3, gamma='auto', kernel='rbf',\n",
      "  max_iter=-1, probability=True, random_state=None, shrinking=True,\n",
      "  tol=0.001, verbose=False)\n"
     ]
    }
   ],
   "source": [
    "# split dataframe into feature and truth label datasets\n",
    "X = feat_reduc_df[feat_reduc_df.columns[:-1]]\n",
    "y = feat_reduc_df['Truth']\n",
    "\n",
    "# implement stratified k-fold\n",
    "skf = StratifiedKFold(n_splits=8)\n",
    "#skf.get_n_splits(X, y)\n",
    "#print(skf)\n",
    "\n",
    "# initialize SVM\n",
    "clf = svm.SVC(C=1 ,kernel='rbf', probability=True)\n",
    "print(\"\\n\", clf)"
   ]
  },
  {
   "cell_type": "code",
   "execution_count": 39,
   "metadata": {},
   "outputs": [
    {
     "name": "stdout",
     "output_type": "stream",
     "text": [
      "0.723024155698398\n"
     ]
    }
   ],
   "source": [
    "auc_list = []\n",
    "\n",
    "for epoch in range(0, 1000):\n",
    "\n",
    "    tprs = []\n",
    "    aucs = []\n",
    "    mean_fpr = np.linspace(0, 1, 100)\n",
    "\n",
    "    i = 0\n",
    "    for train, test in skf.split(X, y):\n",
    "        probas_ = clf.fit(X.iloc[train], y.iloc[train]).predict_proba(X.iloc[test])\n",
    "        # Compute ROC curve and AUC\n",
    "        fpr, tpr, thresholds = roc_curve(y[test], probas_[:, 1])\n",
    "        tprs.append(interp(mean_fpr, fpr, tpr))\n",
    "        tprs[-1][0] = 0.0\n",
    "        roc_auc = auc(fpr, tpr)\n",
    "        aucs.append(roc_auc)\n",
    "#        plt.plot(fpr, tpr, lw=1, alpha=0.3,\n",
    "#                 label='ROC fold %d (AUC = %0.2f)' % (i, roc_auc))\n",
    "        i += 1\n",
    "\n",
    "#    plt.plot([0, 1], [0, 1], linestyle='--', lw=2, color='r',\n",
    "#             label='Chance', alpha=0.8)\n",
    "\n",
    "    mean_tpr = np.mean(tprs, axis=0)\n",
    "    mean_tpr[-1] = 1.0\n",
    "    mean_auc = auc(mean_fpr, mean_tpr)\n",
    "    std_auc = np.std(aucs)\n",
    "#    plt.plot(mean_fpr, mean_tpr, color='b',\n",
    "#              label=r'Mean ROC (AUC = %0.2f $\\pm$ %0.2f)' % (mean_auc, std_auc),\n",
    "#              lw=2, alpha=0.8)\n",
    "\n",
    "    std_tpr = np.std(tprs, axis=0)\n",
    "    tprs_upper = np.minimum(mean_tpr + std_tpr, 1)\n",
    "    tprs_lower = np.maximum(mean_tpr - std_tpr, 0)\n",
    "#    plt.fill_between(mean_fpr, tprs_lower, tprs_upper, color='grey', alpha=0.2,\n",
    "#                     label=r'$\\pm$ 1 std. dev.')\n",
    "\n",
    "#    plt.xlim([-0.05, 1.05])\n",
    "#    plt.ylim([-0.05, 1.05])\n",
    "#    plt.xlabel('False Positive Rate')\n",
    "#    plt.ylabel('True Positive Rate')\n",
    "##   plt.title('Receiver operating characteristic')\n",
    "#    plt.legend(bbox_to_anchor=(1.1, 1.05))\n",
    "#    plt.show()\n",
    "    \n",
    "    auc_list.append(mean_auc)\n",
    "\n",
    "average_auc = np.mean(auc_list)\n",
    "print(average_auc)"
   ]
  },
  {
   "cell_type": "code",
   "execution_count": 20,
   "metadata": {},
   "outputs": [
    {
     "data": {
      "image/png": "[encoded data removed]",
      "text/plain": [
       "<matplotlib.figure.Figure at 0x23d8673a160>"
      ]
     },
     "metadata": {},
     "output_type": "display_data"
    }
   ],
   "source": [
    "tprs = []\n",
    "aucs = []\n",
    "mean_fpr = np.linspace(0, 1, 100)\n",
    "\n",
    "i = 0\n",
    "for train, test in skf.split(X, y):\n",
    "    probas_ = clf.fit(X.iloc[train], y.iloc[train]).predict_proba(X.iloc[test])\n",
    "    # Compute ROC curve and AUC\n",
    "    fpr, tpr, thresholds = roc_curve(y[test], probas_[:, 1])\n",
    "    tprs.append(interp(mean_fpr, fpr, tpr))\n",
    "    tprs[-1][0] = 0.0\n",
    "    roc_auc = auc(fpr, tpr)\n",
    "    aucs.append(roc_auc)\n",
    "    plt.plot(fpr, tpr, lw=1, alpha=0.3,\n",
    "             label='ROC fold %d (AUC = %0.2f)' % (i, roc_auc))\n",
    "    i += 1\n",
    "\n",
    "plt.plot([0, 1], [0, 1], linestyle='--', lw=2, color='r',\n",
    "         label='Chance', alpha=0.8)\n",
    "\n",
    "mean_tpr = np.mean(tprs, axis=0)\n",
    "mean_tpr[-1] = 1.0\n",
    "mean_auc = auc(mean_fpr, mean_tpr)\n",
    "std_auc = np.std(aucs)\n",
    "plt.plot(mean_fpr, mean_tpr, color='b',\n",
    "          label=r'Mean ROC (AUC = %0.2f $\\pm$ %0.2f)' % (mean_auc, std_auc),\n",
    "          lw=2, alpha=0.8)\n",
    "\n",
    "std_tpr = np.std(tprs, axis=0)\n",
    "tprs_upper = np.minimum(mean_tpr + std_tpr, 1)\n",
    "tprs_lower = np.maximum(mean_tpr - std_tpr, 0)\n",
    "plt.fill_between(mean_fpr, tprs_lower, tprs_upper, color='grey', alpha=0.2,\n",
    "                 label=r'$\\pm$ 1 std. dev.')\n",
    "\n",
    "plt.xlim([-0.05, 1.05])\n",
    "plt.ylim([-0.05, 1.05])\n",
    "plt.xlabel('False Positive Rate')\n",
    "plt.ylabel('True Positive Rate')\n",
    "plt.title('Receiver operating characteristic')\n",
    "plt.legend(bbox_to_anchor=(1.1, 1.05))\n",
    "plt.show()"
   ]
  },
  {
   "cell_type": "markdown",
   "metadata": {},
   "source": [
    "# Try leave one out cross validation\n",
    "-good for low dataset counts - https://stats.stackexchange.com/questions/27454/how-does-leave-one-out-cross-validation-work-how-to-select-the-final-model-out"
   ]
  },
  {
   "cell_type": "code",
   "execution_count": null,
   "metadata": {
    "collapsed": true
   },
   "outputs": [],
   "source": [
    "import pandas as pd\n",
    "import numpy as np\n",
    "import sklearn as sk\n",
    "\n",
    "from sklearn import svm\n",
    "from sklearn.model_selection import LeaveOneOut, cross_val_score, cross_val_predict, train_test_split\n",
    "from sklearn.metrics import log_loss, accuracy_score, roc_auc_score"
   ]
  },
  {
   "cell_type": "code",
   "execution_count": null,
   "metadata": {},
   "outputs": [],
   "source": [
    "# Retrieve feature dataframe (reduced and normalized) from Feature Extraction and PCA.ipynb\n",
    "%store -r feat_reduc_df\n",
    "feat_reduc_df.head()"
   ]
  },
  {
   "cell_type": "code",
   "execution_count": null,
   "metadata": {
    "collapsed": true
   },
   "outputs": [],
   "source": [
    "# separate features from truth labels\n",
    "X = feat_reduc_df[feat_reduc_df.columns[:-1]]\n",
    "y = feat_reduc_df['Truth']"
   ]
  },
  {
   "cell_type": "code",
   "execution_count": null,
   "metadata": {
    "collapsed": true
   },
   "outputs": [],
   "source": [
    "# implement leave-one-out\n",
    "loo = LeaveOneOut()\n",
    "#folds = loo.split(range(y.size))\n",
    "folds = loo.split(X)"
   ]
  },
  {
   "cell_type": "code",
   "execution_count": null,
   "metadata": {},
   "outputs": [],
   "source": [
    "folds"
   ]
  },
  {
   "cell_type": "code",
   "execution_count": null,
   "metadata": {
    "collapsed": true
   },
   "outputs": [],
   "source": [
    "from sklearn import svm\n",
    "\n",
    "losses = []\n",
    "accs = []\n",
    "ys = []\n",
    "probs = []   \n",
    "\n",
    "for train_index, test_index in folds:\n",
    "    X_train, X_test, y_train, y_test = X.iloc[train_index], X.iloc[test_index], y.iloc[train_index], y.iloc[test_index]\n",
    "            \n",
    "    clf = svm.SVC(C=1 ,kernel='rbf', probability=True)\n",
    "    clf.fit(X_train, y_train)\n",
    "    predictions = clf.predict_proba(X_test)\n",
    "    \n",
    "    loss = log_loss(y_test, predictions, labels=[0,1])            \n",
    "    acc = (y_test == predictions.argmax(axis=1)).sum() \n",
    "    losses.append(loss)\n",
    "    accs.append(acc)\n",
    "\n",
    "    ys.append(y_test)\n",
    "    probs.append(predictions[:,1])"
   ]
  },
  {
   "cell_type": "code",
   "execution_count": null,
   "metadata": {},
   "outputs": [],
   "source": [
    "l = np.array(losses).mean()\n",
    "a = sum(accs)/float(len(y))\n",
    "\n",
    "probabilities = np.concatenate(probs)\n",
    "ys = np.concatenate(ys)\n",
    "auc = roc_auc_score(ys, probabilities)\n",
    "print(\"loss=%s, auc=%s, accuracy=%s\" % (l, auc, a))"
   ]
  },
  {
   "cell_type": "code",
   "execution_count": null,
   "metadata": {
    "collapsed": true
   },
   "outputs": [],
   "source": []
  }
 ],
 "metadata": {
  "kernelspec": {
   "display_name": "Python 3",
   "language": "python",
   "name": "python3"
  },
  "language_info": {
   "codemirror_mode": {
    "name": "ipython",
    "version": 3
   },
   "file_extension": ".py",
   "mimetype": "text/x-python",
   "name": "python",
   "nbconvert_exporter": "python",
   "pygments_lexer": "ipython3",
   "version": "3.6.2"
  }
 },
 "nbformat": 4,
 "nbformat_minor": 2
}
