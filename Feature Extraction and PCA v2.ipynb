{
 "cells": [
  {
   "cell_type": "markdown",
   "metadata": {},
   "source": [
    "# [1] Automatic feature extraction\n",
    "- https://www.youtube.com/watch?v=s041lMgOlgs\n",
    "- Use GLCM and find optimal settings for lung nodule feature extraction then compute the 14 haralick texture features.\n",
    "- GLCM feature significance -- https://www.researchgate.net/post/What_is_significance_of_GLCM_features\n",
    "\n",
    "#### Deep learning stuff\n",
    "- MNIST For ML Beginners --https://www.tensorflow.org/versions/r1.0/get_started/mnist/beginners\n",
    "- how many images needed for deep learning? --https://www.quora.com/How-many-images-data-do-I-need-to-start-training-a-deep-neural-network-from-scratch-1\n",
    "\n",
    "## Instructions:\n",
    "- Don't run 2b and 6b\n",
    "- After storing the dataframe at the end, run SVM v2."
   ]
  },
  {
   "cell_type": "code",
   "execution_count": 1,
   "metadata": {
    "collapsed": true
   },
   "outputs": [],
   "source": [
    "import cv2\n",
    "import os\n",
    "import numpy as np\n",
    "import pandas as pd\n",
    "import matplotlib.pyplot as plt\n",
    "import skimage.feature as sk\n",
    "import mahotas.features as feature\n",
    "from sklearn import preprocessing\n",
    "\n",
    "import collections\n",
    "\n",
    "%matplotlib inline"
   ]
  },
  {
   "cell_type": "code",
   "execution_count": 2,
   "metadata": {
    "collapsed": true
   },
   "outputs": [],
   "source": [
    "def glcm_feat_extraction(image):\n",
    "    # Use GLCM to find features\n",
    "    #glcm = sk.greycomatrix(image, [1], [0, np.pi/4, np.pi/2, 3*np.pi/4])\n",
    "    glcm = sk.greycomatrix(image, [1], [0, 3*np.pi/4])\n",
    "    \n",
    "    # mean of GLCM directions for rotational invariance\n",
    "    glcm_mean = np.mean(glcm, axis=3, keepdims=True)\n",
    "    \n",
    "    # Find features from GLCM\n",
    "    contrast = sk.greycoprops(glcm_mean, 'contrast')\n",
    "    dissimilarity = sk.greycoprops(glcm_mean, 'dissimilarity')\n",
    "    homogeneity = sk.greycoprops(glcm_mean, 'homogeneity')\n",
    "    ASM = sk.greycoprops(glcm_mean, 'ASM')\n",
    "    energy = sk.greycoprops(glcm_mean, 'energy')\n",
    "    correlation = sk.greycoprops(glcm_mean, 'correlation')\n",
    "    \n",
    "    return contrast, homogeneity, ASM, energy   # test\n",
    "    #return contrast, dissimilarity, homogeneity, ASM, energy, correlation\n",
    "\n",
    "def LBP_feat_extraction(image):\n",
    "    # LBP features\n",
    "    # see: http://scikit-image.org/docs/dev/auto_examples/features_detection/plot_local_binary_pattern.html\n",
    "    feat_lbp = sk.local_binary_pattern(image, 29, 7, 'uniform')\n",
    "\n",
    "    # energy and entropy of LBP\n",
    "    lbp_hist,_ = np.histogram(feat_lbp, 7)\n",
    "    lbp_hist = np.array(lbp_hist, dtype=float)\n",
    "    lbp_prob = np.divide(lbp_hist, np.sum(lbp_hist))\n",
    "    lbp_energy = np.sum(lbp_prob**2)\n",
    "    #lbp_entropy = -np.sum(np.multiply(lbp_prob, np.log2(lbp_prob)))\n",
    "    \n",
    "    #return [lbp_energy, lbp_entropy]\n",
    "    return [lbp_energy]\n",
    "\n",
    "def pixel_count(image):\n",
    "    ct = 0\n",
    "    for row in nodule_nums:\n",
    "        for value in row:\n",
    "            if value > 0:\n",
    "                #print(value)\n",
    "                ct += 1\n",
    "    return [ct]\n",
    "\n",
    "# by: Josh Lee\n",
    "# https://stackoverflow.com/questions/2158395/flatten-an-irregular-list-of-lists\n",
    "def flatten(x):\n",
    "    if isinstance(x, collections.Iterable):\n",
    "        return [a for i in x for a in flatten(i)]\n",
    "    else:\n",
    "        return [x]\n",
    "    \n",
    "#def feature_scale(array):\n",
    "    # Scales each column separately and appends the columns to an array\n",
    "#    array_scaled = []\n",
    "    \n",
    "#    for column in array:\n",
    "#        column_scaled = preprocessing.scale(column).tolist()\n",
    "#        array_scaled.append(column_scaled)\n",
    "        \n",
    "#    return np.asarray(array_scaled)"
   ]
  },
  {
   "cell_type": "code",
   "execution_count": 3,
   "metadata": {},
   "outputs": [
    {
     "data": {
      "text/html": [
       "<div>\n",
       "<style>\n",
       "    .dataframe thead tr:only-child th {\n",
       "        text-align: right;\n",
       "    }\n",
       "\n",
       "    .dataframe thead th {\n",
       "        text-align: left;\n",
       "    }\n",
       "\n",
       "    .dataframe tbody tr th {\n",
       "        vertical-align: top;\n",
       "    }\n",
       "</style>\n",
       "<table border=\"1\" class=\"dataframe\">\n",
       "  <thead>\n",
       "    <tr style=\"text-align: right;\">\n",
       "      <th></th>\n",
       "      <th>Patient ID</th>\n",
       "      <th>Diagnosis</th>\n",
       "      <th>x</th>\n",
       "      <th>y</th>\n",
       "      <th>Instance Number</th>\n",
       "    </tr>\n",
       "  </thead>\n",
       "  <tbody>\n",
       "    <tr>\n",
       "      <th>0</th>\n",
       "      <td>CT-Training-BE001</td>\n",
       "      <td>benign</td>\n",
       "      <td>405</td>\n",
       "      <td>296</td>\n",
       "      <td>169</td>\n",
       "    </tr>\n",
       "    <tr>\n",
       "      <th>1</th>\n",
       "      <td>CT-Training-BE002</td>\n",
       "      <td>benign</td>\n",
       "      <td>184</td>\n",
       "      <td>268</td>\n",
       "      <td>117</td>\n",
       "    </tr>\n",
       "    <tr>\n",
       "      <th>2</th>\n",
       "      <td>CT-Training-BE006</td>\n",
       "      <td>benign</td>\n",
       "      <td>449</td>\n",
       "      <td>266</td>\n",
       "      <td>241</td>\n",
       "    </tr>\n",
       "    <tr>\n",
       "      <th>3</th>\n",
       "      <td>CT-Training-BE007</td>\n",
       "      <td>benign</td>\n",
       "      <td>385</td>\n",
       "      <td>206</td>\n",
       "      <td>194</td>\n",
       "    </tr>\n",
       "    <tr>\n",
       "      <th>4</th>\n",
       "      <td>CT-Training-BE010</td>\n",
       "      <td>benign</td>\n",
       "      <td>120</td>\n",
       "      <td>336</td>\n",
       "      <td>69</td>\n",
       "    </tr>\n",
       "  </tbody>\n",
       "</table>\n",
       "</div>"
      ],
      "text/plain": [
       "          Patient ID Diagnosis    x    y  Instance Number\n",
       "0  CT-Training-BE001    benign  405  296              169\n",
       "1  CT-Training-BE002    benign  184  268              117\n",
       "2  CT-Training-BE006    benign  449  266              241\n",
       "3  CT-Training-BE007    benign  385  206              194\n",
       "4  CT-Training-BE010    benign  120  336               69"
      ]
     },
     "execution_count": 3,
     "metadata": {},
     "output_type": "execute_result"
    }
   ],
   "source": [
    "# Select path where patients and their subsequent CT scans are\n",
    "data_dir = 'C:/Users/moogl/Desktop/UChicago/Capstone Project/2. Implementation/Lung CT Data/SPIE-AAPM Lung CT Challenge/'\n",
    "\n",
    "# csv to pandas dataframe\n",
    "coordinates_df = pd.read_csv(data_dir + 'Dataset Info/' + 'Calib and test set labels (with 2 nodule patients).csv')\n",
    "coordinates_df.sort_values(by=['Patient ID'], inplace=True)\n",
    "coordinates_df.set_index('Patient ID', drop=True, inplace=True)\n",
    "coordinates_df.reset_index(inplace=True)\n",
    "\n",
    "patients = list(coordinates_df['Patient ID'])\n",
    "\n",
    "coordinates_df.head()"
   ]
  },
  {
   "cell_type": "markdown",
   "metadata": {},
   "source": [
    "# [2] Extract features from nodules (without rotated images)"
   ]
  },
  {
   "cell_type": "code",
   "execution_count": 4,
   "metadata": {},
   "outputs": [
    {
     "name": "stderr",
     "output_type": "stream",
     "text": [
      "C:\\Users\\moogl\\Anaconda3\\lib\\site-packages\\skimage\\feature\\texture.py:109: FutureWarning: Conversion of the second argument of issubdtype from `float` to `np.floating` is deprecated. In future, it will be treated as `np.float64 == np.dtype(float).type`.\n",
      "  if np.issubdtype(image.dtype, np.float):\n"
     ]
    }
   ],
   "source": [
    "feat_array = []\n",
    "\n",
    "for index, nodule in enumerate(patients):    \n",
    "    if nodule == patients[index-1]:\n",
    "        path = data_dir + '6. Clean Crop/' + nodule + '_2_cropped.tiff'\n",
    "    else:\n",
    "        path = data_dir + '6. Clean Crop/' + nodule + '_cropped.tiff'\n",
    "\n",
    "    # read nodule image as array of numbers\n",
    "    nodule_nums = cv2.imread(path, cv2.IMREAD_GRAYSCALE)\n",
    "\n",
    "    # Feature extraction\n",
    "    pixel_count_feat = pixel_count(nodule_nums)\n",
    "    \n",
    "    glcm_feat = glcm_feat_extraction(nodule_nums)\n",
    "    glcm_feat = flatten(glcm_feat)\n",
    "    \n",
    "    LBP_feat = LBP_feat_extraction(nodule_nums)\n",
    "    F13 = feature.haralick(nodule_nums).mean(0).tolist()\n",
    "    \n",
    "    # store features in temp numpy array\n",
    "    #feat_array.append((glcm_feat + LBP_feat + F13))\n",
    "    feat_array.append((pixel_count_feat + glcm_feat + LBP_feat))\n",
    "    #feat_array.append((pixel_count_feat + glcm_feat + LBP_feat + F13))"
   ]
  },
  {
   "cell_type": "markdown",
   "metadata": {},
   "source": [
    "# [3] Save feature array in DataFrame"
   ]
  },
  {
   "cell_type": "code",
   "execution_count": 5,
   "metadata": {},
   "outputs": [
    {
     "data": {
      "text/html": [
       "<div>\n",
       "<style>\n",
       "    .dataframe thead tr:only-child th {\n",
       "        text-align: right;\n",
       "    }\n",
       "\n",
       "    .dataframe thead th {\n",
       "        text-align: left;\n",
       "    }\n",
       "\n",
       "    .dataframe tbody tr th {\n",
       "        vertical-align: top;\n",
       "    }\n",
       "</style>\n",
       "<table border=\"1\" class=\"dataframe\">\n",
       "  <thead>\n",
       "    <tr style=\"text-align: right;\">\n",
       "      <th></th>\n",
       "      <th>Number of Pixels</th>\n",
       "      <th>GLCM Contrast</th>\n",
       "      <th>GLCMHomogeneity</th>\n",
       "      <th>GLCM ASM</th>\n",
       "      <th>GLCM Energy</th>\n",
       "      <th>LBP Energy</th>\n",
       "    </tr>\n",
       "  </thead>\n",
       "  <tbody>\n",
       "    <tr>\n",
       "      <th>0</th>\n",
       "      <td>13</td>\n",
       "      <td>151208.0</td>\n",
       "      <td>3983.5</td>\n",
       "      <td>15864298.8</td>\n",
       "      <td>3983.0</td>\n",
       "      <td>1.0</td>\n",
       "    </tr>\n",
       "    <tr>\n",
       "      <th>1</th>\n",
       "      <td>21</td>\n",
       "      <td>224667.0</td>\n",
       "      <td>3974.9</td>\n",
       "      <td>15788718.2</td>\n",
       "      <td>3973.5</td>\n",
       "      <td>1.0</td>\n",
       "    </tr>\n",
       "    <tr>\n",
       "      <th>2</th>\n",
       "      <td>295</td>\n",
       "      <td>725757.0</td>\n",
       "      <td>3652.2</td>\n",
       "      <td>13257318.2</td>\n",
       "      <td>3641.1</td>\n",
       "      <td>0.9</td>\n",
       "    </tr>\n",
       "    <tr>\n",
       "      <th>3</th>\n",
       "      <td>482</td>\n",
       "      <td>1881115.0</td>\n",
       "      <td>3526.5</td>\n",
       "      <td>12163033.8</td>\n",
       "      <td>3487.6</td>\n",
       "      <td>0.9</td>\n",
       "    </tr>\n",
       "    <tr>\n",
       "      <th>4</th>\n",
       "      <td>634</td>\n",
       "      <td>860690.0</td>\n",
       "      <td>3384.7</td>\n",
       "      <td>10983307.2</td>\n",
       "      <td>3314.1</td>\n",
       "      <td>0.9</td>\n",
       "    </tr>\n",
       "  </tbody>\n",
       "</table>\n",
       "</div>"
      ],
      "text/plain": [
       "   Number of Pixels  GLCM Contrast   GLCMHomogeneity    GLCM ASM  GLCM Energy  \\\n",
       "0                13       151208.0            3983.5  15864298.8       3983.0   \n",
       "1                21       224667.0            3974.9  15788718.2       3973.5   \n",
       "2               295       725757.0            3652.2  13257318.2       3641.1   \n",
       "3               482      1881115.0            3526.5  12163033.8       3487.6   \n",
       "4               634       860690.0            3384.7  10983307.2       3314.1   \n",
       "\n",
       "   LBP Energy  \n",
       "0         1.0  \n",
       "1         1.0  \n",
       "2         0.9  \n",
       "3         0.9  \n",
       "4         0.9  "
      ]
     },
     "execution_count": 5,
     "metadata": {},
     "output_type": "execute_result"
    }
   ],
   "source": [
    "# Convert numpy array to pandas dataframe\n",
    "feat_array_full = np.array(feat_array)\n",
    "feat_df = pd.DataFrame(feat_array)\n",
    "\n",
    "feat_df.columns = ['Number of Pixels' ,'GLCM Contrast', ' GLCMHomogeneity', ' GLCM ASM', 'GLCM Energy', 'LBP Energy']\n",
    "\n",
    "feat_df.info\n",
    "# write dataframe to .csv file\n",
    "#feat_df.to_csv(data_dir + 'Features Dataframe.csv')\n",
    "feat_df.round(1).head()"
   ]
  },
  {
   "cell_type": "markdown",
   "metadata": {},
   "source": [
    "# [4] Data preprocessing (normalizing and scaling)\n",
    "\n",
    "- Consider normalizing \"Scale input vectors individually to unit norm (vector length)\"\n",
    "- http://scikit-learn.org/stable/modules/generated/sklearn.preprocessing.normalize.html\n",
    "- http://benalexkeen.com/feature-scaling-with-scikit-learn/"
   ]
  },
  {
   "cell_type": "code",
   "execution_count": 7,
   "metadata": {},
   "outputs": [
    {
     "data": {
      "text/html": [
       "<div>\n",
       "<style>\n",
       "    .dataframe thead tr:only-child th {\n",
       "        text-align: right;\n",
       "    }\n",
       "\n",
       "    .dataframe thead th {\n",
       "        text-align: left;\n",
       "    }\n",
       "\n",
       "    .dataframe tbody tr th {\n",
       "        vertical-align: top;\n",
       "    }\n",
       "</style>\n",
       "<table border=\"1\" class=\"dataframe\">\n",
       "  <thead>\n",
       "    <tr style=\"text-align: right;\">\n",
       "      <th></th>\n",
       "      <th>Number of Pixels</th>\n",
       "      <th>GLCM Contrast</th>\n",
       "      <th>GLCMHomogeneity</th>\n",
       "      <th>GLCM ASM</th>\n",
       "      <th>GLCM Energy</th>\n",
       "      <th>LBP Energy</th>\n",
       "    </tr>\n",
       "  </thead>\n",
       "  <tbody>\n",
       "    <tr>\n",
       "      <th>0</th>\n",
       "      <td>-1.17</td>\n",
       "      <td>-1.00</td>\n",
       "      <td>1.20</td>\n",
       "      <td>1.33</td>\n",
       "      <td>1.20</td>\n",
       "      <td>1.62</td>\n",
       "    </tr>\n",
       "    <tr>\n",
       "      <th>1</th>\n",
       "      <td>-1.14</td>\n",
       "      <td>-0.94</td>\n",
       "      <td>1.17</td>\n",
       "      <td>1.30</td>\n",
       "      <td>1.18</td>\n",
       "      <td>1.54</td>\n",
       "    </tr>\n",
       "    <tr>\n",
       "      <th>2</th>\n",
       "      <td>-0.37</td>\n",
       "      <td>-0.53</td>\n",
       "      <td>0.24</td>\n",
       "      <td>0.26</td>\n",
       "      <td>0.29</td>\n",
       "      <td>0.69</td>\n",
       "    </tr>\n",
       "    <tr>\n",
       "      <th>3</th>\n",
       "      <td>0.16</td>\n",
       "      <td>0.43</td>\n",
       "      <td>-0.12</td>\n",
       "      <td>-0.19</td>\n",
       "      <td>-0.12</td>\n",
       "      <td>0.20</td>\n",
       "    </tr>\n",
       "    <tr>\n",
       "      <th>4</th>\n",
       "      <td>0.58</td>\n",
       "      <td>-0.42</td>\n",
       "      <td>-0.53</td>\n",
       "      <td>-0.67</td>\n",
       "      <td>-0.58</td>\n",
       "      <td>-0.54</td>\n",
       "    </tr>\n",
       "  </tbody>\n",
       "</table>\n",
       "</div>"
      ],
      "text/plain": [
       "   Number of Pixels  GLCM Contrast   GLCMHomogeneity   GLCM ASM  GLCM Energy  \\\n",
       "0             -1.17          -1.00              1.20       1.33         1.20   \n",
       "1             -1.14          -0.94              1.17       1.30         1.18   \n",
       "2             -0.37          -0.53              0.24       0.26         0.29   \n",
       "3              0.16           0.43             -0.12      -0.19        -0.12   \n",
       "4              0.58          -0.42             -0.53      -0.67        -0.58   \n",
       "\n",
       "   LBP Energy  \n",
       "0        1.62  \n",
       "1        1.54  \n",
       "2        0.69  \n",
       "3        0.20  \n",
       "4       -0.54  "
      ]
     },
     "execution_count": 7,
     "metadata": {},
     "output_type": "execute_result"
    }
   ],
   "source": [
    "# \"Standardize features by removing the mean and scaling to unit variance\"\n",
    "scaler = preprocessing.StandardScaler()\n",
    "feat_scaled = scaler.fit_transform(feat_array_full)\n",
    "\n",
    "feat_scaled_df = pd.DataFrame(feat_scaled)\n",
    "\n",
    "feat_scaled_df.columns = ['Number of Pixels', 'GLCM Contrast', ' GLCMHomogeneity', ' GLCM ASM', 'GLCM Energy', 'LBP Energy']\n",
    "\n",
    "feat_scaled_df.round(2).head()"
   ]
  },
  {
   "cell_type": "markdown",
   "metadata": {},
   "source": [
    "# [5] PCA using sklearn\n",
    "- In Depth: Principal Component Analysis\n",
    "-https://jakevdp.github.io/PythonDataScienceHandbook/05.09-principal-component-analysis.html\n",
    "- SKlearn PCA, SVD Dimensionality Reduction by The SemiColon\n",
    "-https://www.youtube.com/watch?v=O3qXimMGn28\n",
    "- StatQuest: Principal Component Analysis (PCA), Step-by-Step by Josh Starmer\n",
    "-https://www.youtube.com/watch?v=FgakZw6K1QQ"
   ]
  },
  {
   "cell_type": "code",
   "execution_count": 198,
   "metadata": {
    "collapsed": true
   },
   "outputs": [],
   "source": [
    "from sklearn.decomposition import PCA"
   ]
  },
  {
   "cell_type": "code",
   "execution_count": 199,
   "metadata": {
    "collapsed": true
   },
   "outputs": [],
   "source": [
    "pca = PCA(n_components=4, whiten=True) # was 4 with all features\n",
    "# with scaling\n",
    "feat_reduc = pca.fit(feat_scaled_df).transform(feat_scaled_df)\n",
    "\n",
    "# no scaling\n",
    "#feat_reduc = pca.fit(feat_df).transform(feat_df)"
   ]
  },
  {
   "cell_type": "code",
   "execution_count": 200,
   "metadata": {},
   "outputs": [
    {
     "data": {
      "text/plain": [
       "array([5.5469172 , 0.43565127, 0.08089857, 0.00795642])"
      ]
     },
     "execution_count": 200,
     "metadata": {},
     "output_type": "execute_result"
    }
   ],
   "source": [
    "pca.explained_variance_"
   ]
  },
  {
   "cell_type": "code",
   "execution_count": 201,
   "metadata": {},
   "outputs": [
    {
     "data": {
      "text/html": [
       "<div>\n",
       "<style>\n",
       "    .dataframe thead tr:only-child th {\n",
       "        text-align: right;\n",
       "    }\n",
       "\n",
       "    .dataframe thead th {\n",
       "        text-align: left;\n",
       "    }\n",
       "\n",
       "    .dataframe tbody tr th {\n",
       "        vertical-align: top;\n",
       "    }\n",
       "</style>\n",
       "<table border=\"1\" class=\"dataframe\">\n",
       "  <thead>\n",
       "    <tr style=\"text-align: right;\">\n",
       "      <th></th>\n",
       "      <th>0</th>\n",
       "      <th>1</th>\n",
       "      <th>2</th>\n",
       "      <th>3</th>\n",
       "    </tr>\n",
       "  </thead>\n",
       "  <tbody>\n",
       "    <tr>\n",
       "      <th>0</th>\n",
       "      <td>-1.306392</td>\n",
       "      <td>-0.077998</td>\n",
       "      <td>1.397973</td>\n",
       "      <td>1.067861</td>\n",
       "    </tr>\n",
       "    <tr>\n",
       "      <th>1</th>\n",
       "      <td>-1.265583</td>\n",
       "      <td>-0.119974</td>\n",
       "      <td>1.226719</td>\n",
       "      <td>1.059346</td>\n",
       "    </tr>\n",
       "    <tr>\n",
       "      <th>2</th>\n",
       "      <td>-0.404961</td>\n",
       "      <td>0.290080</td>\n",
       "      <td>1.318471</td>\n",
       "      <td>-0.849168</td>\n",
       "    </tr>\n",
       "    <tr>\n",
       "      <th>3</th>\n",
       "      <td>0.132183</td>\n",
       "      <td>-0.547454</td>\n",
       "      <td>0.997631</td>\n",
       "      <td>-0.567614</td>\n",
       "    </tr>\n",
       "    <tr>\n",
       "      <th>4</th>\n",
       "      <td>0.461200</td>\n",
       "      <td>1.245188</td>\n",
       "      <td>0.238197</td>\n",
       "      <td>-1.528097</td>\n",
       "    </tr>\n",
       "  </tbody>\n",
       "</table>\n",
       "</div>"
      ],
      "text/plain": [
       "          0         1         2         3\n",
       "0 -1.306392 -0.077998  1.397973  1.067861\n",
       "1 -1.265583 -0.119974  1.226719  1.059346\n",
       "2 -0.404961  0.290080  1.318471 -0.849168\n",
       "3  0.132183 -0.547454  0.997631 -0.567614\n",
       "4  0.461200  1.245188  0.238197 -1.528097"
      ]
     },
     "execution_count": 201,
     "metadata": {},
     "output_type": "execute_result"
    }
   ],
   "source": [
    "feat_reduc_df = pd.DataFrame(feat_reduc)\n",
    "feat_reduc_df.head()"
   ]
  },
  {
   "cell_type": "markdown",
   "metadata": {},
   "source": [
    "# [6] Append truth values to dataframe (without rotated images)"
   ]
  },
  {
   "cell_type": "code",
   "execution_count": 202,
   "metadata": {},
   "outputs": [
    {
     "data": {
      "text/html": [
       "<div>\n",
       "<style>\n",
       "    .dataframe thead tr:only-child th {\n",
       "        text-align: right;\n",
       "    }\n",
       "\n",
       "    .dataframe thead th {\n",
       "        text-align: left;\n",
       "    }\n",
       "\n",
       "    .dataframe tbody tr th {\n",
       "        vertical-align: top;\n",
       "    }\n",
       "</style>\n",
       "<table border=\"1\" class=\"dataframe\">\n",
       "  <thead>\n",
       "    <tr style=\"text-align: right;\">\n",
       "      <th></th>\n",
       "      <th>0</th>\n",
       "      <th>1</th>\n",
       "      <th>2</th>\n",
       "      <th>3</th>\n",
       "      <th>Truth</th>\n",
       "    </tr>\n",
       "  </thead>\n",
       "  <tbody>\n",
       "    <tr>\n",
       "      <th>0</th>\n",
       "      <td>-1.306392</td>\n",
       "      <td>-0.077998</td>\n",
       "      <td>1.397973</td>\n",
       "      <td>1.067861</td>\n",
       "      <td>0</td>\n",
       "    </tr>\n",
       "    <tr>\n",
       "      <th>1</th>\n",
       "      <td>-1.265583</td>\n",
       "      <td>-0.119974</td>\n",
       "      <td>1.226719</td>\n",
       "      <td>1.059346</td>\n",
       "      <td>0</td>\n",
       "    </tr>\n",
       "    <tr>\n",
       "      <th>2</th>\n",
       "      <td>-0.404961</td>\n",
       "      <td>0.290080</td>\n",
       "      <td>1.318471</td>\n",
       "      <td>-0.849168</td>\n",
       "      <td>0</td>\n",
       "    </tr>\n",
       "    <tr>\n",
       "      <th>3</th>\n",
       "      <td>0.132183</td>\n",
       "      <td>-0.547454</td>\n",
       "      <td>0.997631</td>\n",
       "      <td>-0.567614</td>\n",
       "      <td>0</td>\n",
       "    </tr>\n",
       "    <tr>\n",
       "      <th>4</th>\n",
       "      <td>0.461200</td>\n",
       "      <td>1.245188</td>\n",
       "      <td>0.238197</td>\n",
       "      <td>-1.528097</td>\n",
       "      <td>0</td>\n",
       "    </tr>\n",
       "  </tbody>\n",
       "</table>\n",
       "</div>"
      ],
      "text/plain": [
       "          0         1         2         3  Truth\n",
       "0 -1.306392 -0.077998  1.397973  1.067861      0\n",
       "1 -1.265583 -0.119974  1.226719  1.059346      0\n",
       "2 -0.404961  0.290080  1.318471 -0.849168      0\n",
       "3  0.132183 -0.547454  0.997631 -0.567614      0\n",
       "4  0.461200  1.245188  0.238197 -1.528097      0"
      ]
     },
     "execution_count": 202,
     "metadata": {},
     "output_type": "execute_result"
    }
   ],
   "source": [
    "# adding truth column to x_df\n",
    "\n",
    "coordinates_df.replace({'Diagnosis' : {'benign':0, 'Benign nodule':0, 'malignant':1, 'Primary lung cancer':1,\n",
    "                                                        'Primary lung cancer ':1, 'Suspicious malignant nodule':1}}, inplace=True)\n",
    "\n",
    "# Combining non-rotation and rotation truth values into truth_column\n",
    "truth_column_no_rota = coordinates_df['Diagnosis']\n",
    "\n",
    "feat_reduc_df['Truth'] = truth_column_no_rota\n",
    "\n",
    "feat_reduc_df.head()"
   ]
  },
  {
   "cell_type": "markdown",
   "metadata": {},
   "source": [
    "# [7] Store dataframe for use in SVM"
   ]
  },
  {
   "cell_type": "code",
   "execution_count": 203,
   "metadata": {},
   "outputs": [
    {
     "name": "stdout",
     "output_type": "stream",
     "text": [
      "Stored 'feat_reduc_df' (DataFrame)\n"
     ]
    }
   ],
   "source": [
    "%store feat_reduc_df"
   ]
  },
  {
   "cell_type": "code",
   "execution_count": null,
   "metadata": {
    "collapsed": true
   },
   "outputs": [],
   "source": []
  }
 ],
 "metadata": {
  "kernelspec": {
   "display_name": "Python 3",
   "language": "python",
   "name": "python3"
  },
  "language_info": {
   "codemirror_mode": {
    "name": "ipython",
    "version": 3
   },
   "file_extension": ".py",
   "mimetype": "text/x-python",
   "name": "python",
   "nbconvert_exporter": "python",
   "pygments_lexer": "ipython3",
   "version": "3.6.2"
  }
 },
 "nbformat": 4,
 "nbformat_minor": 2
}
