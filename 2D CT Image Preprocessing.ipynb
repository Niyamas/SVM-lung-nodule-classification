{
 "cells": [
  {
   "cell_type": "markdown",
   "metadata": {},
   "source": [
    "# Image Preprocessing\n",
    "\n",
    "### Journal Articles\n",
    "- Automatic Classification of Normal and Cancer Lung CT Images Using Multiscale AM-FM Features (Magdy et al. 2015)\n",
    "-https://www.hindawi.com/journals/ijbi/2015/230830/ (see section 2.2 Image Preprocessing)\n",
    "\n",
    "- A review on CT image noise and its denoising (Diwakar and Kumar 2018)\n",
    "-https://www.sciencedirect.com/science/article/pii/S1746809418300107 (log in through UChicago, see section: 4. CT image\n",
    "denoising methods)\n",
    "\n",
    "### An overview of semantic image segmentation - Jeremy Jordan\n",
    "- https://www.jeremyjordan.me/semantic-segmentation/\n",
    "\n",
    "### Notes\n",
    "- May need to convert images to Hounsfield Units (see kaggle preprocessing tutorial) to have reasonable cutoff ranges in algorithms like region growing.\n",
    "\n",
    "### Opencv Hough Circles\n",
    "- https://www.pyimagesearch.com/2014/07/21/detecting-circles-images-using-opencv-hough-circles/\n",
    "- https://stackoverflow.com/questions/48356398/opencv-remove-background-of-an-image/48356640#48356640\n",
    "- https://www.youtube.com/watch?v=CJMCoAsK-h0\n",
    "- https://opencv-python-tutroals.readthedocs.io/en/latest/py_tutorials/py_imgproc/py_houghcircles/py_houghcircles.html\n",
    "- https://medium.com/@riazmunshi/practical-opencv-3-image-processing-with-python-1b34949fc516\n",
    "- https://www.youtube.com/watch?v=-o9jNEbR5P8\n",
    "\n",
    "### Seeded region growing\n",
    "\n",
    "- https://stackoverflow.com/questions/14416511/seeded-region-growing-with-opencv\n",
    "\n",
    "### Image Binarization\n",
    "- How to set a threshold for binarization\n",
    "-https://stackoverflow.com/questions/9506841/using-python-pil-to-turn-a-rgb-image-into-a-pure-black-and-white-image\n",
    "- After binarization, need to use different feature extraction methods. (I.e. spicularity, rotundness, etc.)"
   ]
  },
  {
   "cell_type": "markdown",
   "metadata": {},
   "source": [
    "# Grayscale thresholding"
   ]
  },
  {
   "cell_type": "code",
   "execution_count": 1,
   "metadata": {
    "collapsed": true
   },
   "outputs": [],
   "source": [
    "from PIL import Image\n",
    "import os\n",
    "import numpy as np\n",
    "import matplotlib.pyplot as plt\n",
    "\n",
    "%matplotlib inline"
   ]
  },
  {
   "cell_type": "code",
   "execution_count": 2,
   "metadata": {},
   "outputs": [
    {
     "data": {
      "text/plain": [
       "'CT-Training-BE001_cropped.tiff'"
      ]
     },
     "execution_count": 2,
     "metadata": {},
     "output_type": "execute_result"
    }
   ],
   "source": [
    "data_dir = 'C:/Users/moogl/Desktop/UChicago/Capstone Project/2. Implementation/Lung CT Data/SPIE-AAPM Lung CT Challenge/'\n",
    "nodule_list = os.listdir(data_dir + '3. Slice Crop')\n",
    "nodule_list[0]"
   ]
  },
  {
   "cell_type": "code",
   "execution_count": 3,
   "metadata": {},
   "outputs": [
    {
     "data": {
      "text/plain": [
       "<matplotlib.image.AxesImage at 0x1f751d8b080>"
      ]
     },
     "execution_count": 3,
     "metadata": {},
     "output_type": "execute_result"
    },
    {
     "data": {
      "image/png": "[encoded data removed]",
      "text/plain": [
       "<matplotlib.figure.Figure at 0x1f74fcad278>"
      ]
     },
     "metadata": {},
     "output_type": "display_data"
    }
   ],
   "source": [
    "nodule_image_file = Image.open(data_dir + \"3. Slice Crop/\" + nodule_list[8])\n",
    "image = np.array(nodule_image_file)\n",
    "\n",
    "threshold = 180\n",
    "\n",
    "for i in range(len(image)):\n",
    "    for j in range(len(image[0])):\n",
    "        if image[i][j] < threshold:\n",
    "            image[i][j] = 0\n",
    "\n",
    "plt.imshow(image, cmap='gray')"
   ]
  },
  {
   "cell_type": "code",
   "execution_count": 4,
   "metadata": {},
   "outputs": [
    {
     "data": {
      "text/plain": [
       "<matplotlib.image.AxesImage at 0x1f751e9f9e8>"
      ]
     },
     "execution_count": 4,
     "metadata": {},
     "output_type": "execute_result"
    },
    {
     "data": {
      "image/png": "[encoded data removed]",
      "text/plain": [
       "<matplotlib.figure.Figure at 0x1f74fc9ae48>"
      ]
     },
     "metadata": {},
     "output_type": "display_data"
    }
   ],
   "source": [
    "plt.imshow(nodule_image_file, cmap='gray')"
   ]
  },
  {
   "cell_type": "markdown",
   "metadata": {
    "collapsed": true
   },
   "source": [
    "# cv2 implementation\n",
    "\n",
    "### Medical segmentation\n",
    "- https://stackoverflow.com/questions/42297665/medical-image-segmentation-with-cv2\n",
    "- Morphological Transformations - Sentdex\n",
    "-https://www.youtube.com/watch?v=YA5u2PI3hF0"
   ]
  },
  {
   "cell_type": "code",
   "execution_count": 5,
   "metadata": {
    "collapsed": true
   },
   "outputs": [],
   "source": [
    "import cv2\n",
    "import numpy as np\n",
    "import matplotlib.pyplot as plt"
   ]
  },
  {
   "cell_type": "code",
   "execution_count": 16,
   "metadata": {},
   "outputs": [
    {
     "data": {
      "text/plain": [
       "'CT-Training-LC008_cropped.tiff'"
      ]
     },
     "execution_count": 16,
     "metadata": {},
     "output_type": "execute_result"
    }
   ],
   "source": [
    "data_dir = 'C:/Users/moogl/Desktop/UChicago/Capstone Project/2. Implementation/Lung CT Data/SPIE-AAPM Lung CT Challenge/'\n",
    "nodule_list = os.listdir(data_dir + '3. Slice Crop')\n",
    "nodule_list[8]"
   ]
  },
  {
   "cell_type": "markdown",
   "metadata": {},
   "source": [
    "### grayscale thresholding using cv2.inRange()"
   ]
  },
  {
   "cell_type": "code",
   "execution_count": 7,
   "metadata": {},
   "outputs": [
    {
     "data": {
      "text/plain": [
       "<matplotlib.image.AxesImage at 0x1f7520fa390>"
      ]
     },
     "execution_count": 7,
     "metadata": {},
     "output_type": "execute_result"
    },
    {
     "data": {
      "image/png": "[encoded data removed]",
      "text/plain": [
       "<matplotlib.figure.Figure at 0x1f74fcad2b0>"
      ]
     },
     "metadata": {},
     "output_type": "display_data"
    }
   ],
   "source": [
    "nodule_image = cv2.imread(data_dir + \"3. Slice Crop/\" + nodule_list[8], 0)\n",
    "plt.imshow(nodule_image, cmap='gray')"
   ]
  },
  {
   "cell_type": "code",
   "execution_count": 8,
   "metadata": {},
   "outputs": [
    {
     "data": {
      "text/plain": [
       "<matplotlib.image.AxesImage at 0x1f752186f28>"
      ]
     },
     "execution_count": 8,
     "metadata": {},
     "output_type": "execute_result"
    },
    {
     "data": {
      "image/png": "[encoded data removed]",
      "text/plain": [
       "<matplotlib.figure.Figure at 0x1f751ed3f98>"
      ]
     },
     "metadata": {},
     "output_type": "display_data"
    }
   ],
   "source": [
    "# Create a binarized mask of the original image\n",
    "mask_thresholded = cv2.inRange(nodule_image, 180, 255)\n",
    "plt.imshow(mask_thresholded, cmap='gray')"
   ]
  },
  {
   "cell_type": "code",
   "execution_count": 12,
   "metadata": {},
   "outputs": [
    {
     "data": {
      "text/plain": [
       "<matplotlib.image.AxesImage at 0x1f7533c9748>"
      ]
     },
     "execution_count": 12,
     "metadata": {},
     "output_type": "execute_result"
    },
    {
     "data": {
      "image/png": "[encoded data removed]",
      "text/plain": [
       "<matplotlib.figure.Figure at 0x1f751d65a20>"
      ]
     },
     "metadata": {},
     "output_type": "display_data"
    }
   ],
   "source": [
    "# Morphological operations\n",
    "kernel = np.ones((2,2), np.uint8)\n",
    "\n",
    "erosion = cv2.erode(mask_thresholded, kernel, iterations=1)\n",
    "dilation = cv2.dilate(mask_thresholded, kernel, iterations=1)\n",
    "\n",
    "opening = cv2.morphologyEx(mask_thresholded, cv2.MORPH_OPEN, kernel)\n",
    "closing = cv2.morphologyEx(mask_thresholded, cv2.MORPH_CLOSE, kernel)\n",
    "\n",
    "tophat = cv2.morphologyEx(mask_thresholded, cv2.MORPH_TOPHAT, kernel)\n",
    "blackhat = cv2.morphologyEx(mask_thresholded, cv2.MORPH_BLACKHAT, kernel)\n",
    "\n",
    "plt.imshow(erosion, cmap='gray')"
   ]
  },
  {
   "cell_type": "markdown",
   "metadata": {},
   "source": [
    "# Merge mask with original image"
   ]
  },
  {
   "cell_type": "code",
   "execution_count": 13,
   "metadata": {},
   "outputs": [
    {
     "data": {
      "text/plain": [
       "<matplotlib.image.AxesImage at 0x1f75345b198>"
      ]
     },
     "execution_count": 13,
     "metadata": {},
     "output_type": "execute_result"
    },
    {
     "data": {
      "image/png": "[encoded data removed]",
      "text/plain": [
       "<matplotlib.figure.Figure at 0x1f752373978>"
      ]
     },
     "metadata": {},
     "output_type": "display_data"
    }
   ],
   "source": [
    "merged = cv2.bitwise_and(nodule_image, nodule_image, mask=erosion)\n",
    "plt.imshow(merged, cmap='gray')"
   ]
  },
  {
   "cell_type": "code",
   "execution_count": 18,
   "metadata": {
    "collapsed": true
   },
   "outputs": [],
   "source": [
    "# save image and use GIMP to remove other elements\n",
    "from scipy import misc\n",
    "misc.imsave(data_dir + '5. Merged Masks/' + nodule_list[8], merged)"
   ]
  },
  {
   "cell_type": "code",
   "execution_count": 17,
   "metadata": {},
   "outputs": [
    {
     "data": {
      "text/plain": [
       "'CT-Training-LC008_cropped.tiff'"
      ]
     },
     "execution_count": 17,
     "metadata": {},
     "output_type": "execute_result"
    }
   ],
   "source": [
    "nodule_list[8]"
   ]
  },
  {
   "cell_type": "code",
   "execution_count": null,
   "metadata": {
    "collapsed": true
   },
   "outputs": [],
   "source": []
  },
  {
   "cell_type": "markdown",
   "metadata": {},
   "source": [
    "### Circle detection"
   ]
  },
  {
   "cell_type": "code",
   "execution_count": 179,
   "metadata": {},
   "outputs": [
    {
     "data": {
      "text/plain": [
       "<matplotlib.image.AxesImage at 0x2bdd3e3ec18>"
      ]
     },
     "execution_count": 179,
     "metadata": {},
     "output_type": "execute_result"
    },
    {
     "data": {
      "image/png": "[encoded data removed]",
      "text/plain": [
       "<matplotlib.figure.Figure at 0x2bdd29625f8>"
      ]
     },
     "metadata": {},
     "output_type": "display_data"
    }
   ],
   "source": [
    "## (3) Find the min-area contour\n",
    "im2, contours, hierarchy = cv2.findContours(erosion, cv2.RETR_TREE, cv2.CHAIN_APPROX_NONE)\n",
    "\n",
    "plt.imshow(cv2.drawContours(erosion, contours, -1, (0,255,0), 3), cmap='gray')"
   ]
  },
  {
   "cell_type": "code",
   "execution_count": null,
   "metadata": {
    "collapsed": true
   },
   "outputs": [],
   "source": []
  },
  {
   "cell_type": "code",
   "execution_count": null,
   "metadata": {
    "collapsed": true
   },
   "outputs": [],
   "source": []
  },
  {
   "cell_type": "code",
   "execution_count": null,
   "metadata": {
    "collapsed": true
   },
   "outputs": [],
   "source": []
  }
 ],
 "metadata": {
  "kernelspec": {
   "display_name": "Python 3",
   "language": "python",
   "name": "python3"
  },
  "language_info": {
   "codemirror_mode": {
    "name": "ipython",
    "version": 3
   },
   "file_extension": ".py",
   "mimetype": "text/x-python",
   "name": "python",
   "nbconvert_exporter": "python",
   "pygments_lexer": "ipython3",
   "version": "3.6.2"
  }
 },
 "nbformat": 4,
 "nbformat_minor": 2
}
