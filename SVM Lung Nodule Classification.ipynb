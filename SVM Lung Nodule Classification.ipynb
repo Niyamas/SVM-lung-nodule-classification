{
 "cells": [
  {
   "cell_type": "markdown",
   "metadata": {},
   "source": [
    "# 1. Introduction\n",
    "This notebook contains code that will extract features from processed lung nodule CT images originally from the SPIE-AAPM Lung CT Challenge which will be inputted into a support vector machine (SVM) algorithm to determine whether the lung nodule is cancerous or benign.\n",
    "\n",
    "## Load libraries"
   ]
  },
  {
   "cell_type": "code",
   "execution_count": 1,
   "metadata": {},
   "outputs": [],
   "source": [
    "# Math & data\n",
    "import numpy as np\n",
    "import pandas as pd\n",
    "\n",
    "# Plotting\n",
    "import matplotlib.pyplot as plt\n",
    "%matplotlib inline\n",
    "\n",
    "# Image processing\n",
    "import cv2\n",
    "import skimage.feature as sk\n",
    "import mahotas.features as feature\n",
    "\n",
    "# Statistics\n",
    "from scipy import interp\n",
    "\n",
    "# Machine learning\n",
    "from sklearn import preprocessing\n",
    "from sklearn.decomposition import PCA\n",
    "from sklearn import svm, datasets\n",
    "from sklearn.metrics import roc_curve, auc\n",
    "from sklearn.model_selection import StratifiedKFold, GridSearchCV\n",
    "\n",
    "# Misc\n",
    "import os\n",
    "import collections\n",
    "from itertools import cycle"
   ]
  },
  {
   "cell_type": "markdown",
   "metadata": {},
   "source": [
    "## Define functions"
   ]
  },
  {
   "cell_type": "code",
   "execution_count": 2,
   "metadata": {},
   "outputs": [],
   "source": [
    "def glcm_feat_extraction(image):\n",
    "    # Use GLCM to find features\n",
    "    #glcm = sk.greycomatrix(image, [1], [0, np.pi/4, np.pi/2, 3*np.pi/4])\n",
    "    glcm = sk.greycomatrix(image, [1], [0, 3*np.pi/4])\n",
    "    \n",
    "    # mean of GLCM directions for rotational invariance\n",
    "    glcm_mean = np.mean(glcm, axis=3, keepdims=True)\n",
    "    \n",
    "    # Find features from GLCM\n",
    "    contrast = sk.greycoprops(glcm_mean, 'contrast')\n",
    "    dissimilarity = sk.greycoprops(glcm_mean, 'dissimilarity')\n",
    "    homogeneity = sk.greycoprops(glcm_mean, 'homogeneity')\n",
    "    ASM = sk.greycoprops(glcm_mean, 'ASM')\n",
    "    energy = sk.greycoprops(glcm_mean, 'energy')\n",
    "    correlation = sk.greycoprops(glcm_mean, 'correlation')\n",
    "    \n",
    "    return contrast, homogeneity, ASM, energy   # test\n",
    "\n",
    "def LBP_feat_extraction(image):\n",
    "    # LBP features\n",
    "    # see: http://scikit-image.org/docs/dev/auto_examples/features_detection/plot_local_binary_pattern.html\n",
    "    feat_lbp = sk.local_binary_pattern(image, 29, 7, 'uniform')\n",
    "\n",
    "    lbp_hist,_ = np.histogram(feat_lbp, 7)\n",
    "    lbp_hist = np.array(lbp_hist, dtype=float)\n",
    "    lbp_prob = np.divide(lbp_hist, np.sum(lbp_hist))\n",
    "    lbp_energy = np.sum(lbp_prob**2)\n",
    "    \n",
    "    return [lbp_energy]\n",
    "\n",
    "def pixel_count(image):\n",
    "    ct = 0\n",
    "    for row in nodule_nums:\n",
    "        for value in row:\n",
    "            if value > 0:\n",
    "                ct += 1\n",
    "    return [ct]\n",
    "\n",
    "# by: Josh Lee\n",
    "# https://stackoverflow.com/questions/2158395/flatten-an-irregular-list-of-lists\n",
    "def flatten(x):\n",
    "    if isinstance(x, collections.Iterable):\n",
    "        return [a for i in x for a in flatten(i)]\n",
    "    else:\n",
    "        return [x]"
   ]
  },
  {
   "cell_type": "markdown",
   "metadata": {},
   "source": [
    "# 2. Load Lung Nodule Data\n",
    "Change data_dir to the main folder with all of the files"
   ]
  },
  {
   "cell_type": "code",
   "execution_count": 3,
   "metadata": {},
   "outputs": [
    {
     "data": {
      "text/html": [
       "<div>\n",
       "<style scoped>\n",
       "    .dataframe tbody tr th:only-of-type {\n",
       "        vertical-align: middle;\n",
       "    }\n",
       "\n",
       "    .dataframe tbody tr th {\n",
       "        vertical-align: top;\n",
       "    }\n",
       "\n",
       "    .dataframe thead th {\n",
       "        text-align: right;\n",
       "    }\n",
       "</style>\n",
       "<table border=\"1\" class=\"dataframe\">\n",
       "  <thead>\n",
       "    <tr style=\"text-align: right;\">\n",
       "      <th></th>\n",
       "      <th>Patient ID</th>\n",
       "      <th>Diagnosis</th>\n",
       "      <th>x</th>\n",
       "      <th>y</th>\n",
       "      <th>Instance Number</th>\n",
       "    </tr>\n",
       "  </thead>\n",
       "  <tbody>\n",
       "    <tr>\n",
       "      <th>0</th>\n",
       "      <td>CT-Training-BE001</td>\n",
       "      <td>benign</td>\n",
       "      <td>405</td>\n",
       "      <td>296</td>\n",
       "      <td>169</td>\n",
       "    </tr>\n",
       "    <tr>\n",
       "      <th>1</th>\n",
       "      <td>CT-Training-BE002</td>\n",
       "      <td>benign</td>\n",
       "      <td>184</td>\n",
       "      <td>268</td>\n",
       "      <td>117</td>\n",
       "    </tr>\n",
       "    <tr>\n",
       "      <th>2</th>\n",
       "      <td>CT-Training-BE006</td>\n",
       "      <td>benign</td>\n",
       "      <td>449</td>\n",
       "      <td>266</td>\n",
       "      <td>241</td>\n",
       "    </tr>\n",
       "    <tr>\n",
       "      <th>3</th>\n",
       "      <td>CT-Training-BE007</td>\n",
       "      <td>benign</td>\n",
       "      <td>385</td>\n",
       "      <td>206</td>\n",
       "      <td>194</td>\n",
       "    </tr>\n",
       "    <tr>\n",
       "      <th>4</th>\n",
       "      <td>CT-Training-BE010</td>\n",
       "      <td>benign</td>\n",
       "      <td>120</td>\n",
       "      <td>336</td>\n",
       "      <td>69</td>\n",
       "    </tr>\n",
       "  </tbody>\n",
       "</table>\n",
       "</div>"
      ],
      "text/plain": [
       "          Patient ID Diagnosis    x    y  Instance Number\n",
       "0  CT-Training-BE001    benign  405  296              169\n",
       "1  CT-Training-BE002    benign  184  268              117\n",
       "2  CT-Training-BE006    benign  449  266              241\n",
       "3  CT-Training-BE007    benign  385  206              194\n",
       "4  CT-Training-BE010    benign  120  336               69"
      ]
     },
     "execution_count": 3,
     "metadata": {},
     "output_type": "execute_result"
    }
   ],
   "source": [
    "data_dir = 'C:/Users/moogl/Desktop/UChicago/Capstone Project/2. Implementation/Lung CT Data/SPIE-AAPM Lung CT Challenge/'\n",
    "\n",
    "# csv to pandas dataframe\n",
    "coordinates_df = pd.read_csv(data_dir + 'ipynb files/' + 'Calib and test set labels (with 2 nodule patients).csv')\n",
    "coordinates_df.sort_values(by=['Patient ID'], inplace=True)\n",
    "coordinates_df.set_index('Patient ID', drop=True, inplace=True)\n",
    "coordinates_df.reset_index(inplace=True)\n",
    "\n",
    "patients = list(coordinates_df['Patient ID'])\n",
    "\n",
    "coordinates_df.head()"
   ]
  },
  {
   "cell_type": "markdown",
   "metadata": {},
   "source": [
    "# 3. Extract features from nodules\n",
    "Features extracted and placed into a dataframe:\n",
    "> - Lung nodule size (# of pixels)\n",
    "> - Energy (LBP & GLCM)\n",
    "> - Contrast\n",
    "> - Homogeneity\n",
    "> - Angular second moment (ASM)\n",
    "\n",
    "Ensure that the path leads to the folder: '6. Clean Crop/'. "
   ]
  },
  {
   "cell_type": "code",
   "execution_count": 4,
   "metadata": {},
   "outputs": [],
   "source": [
    "feat_array = []\n",
    "\n",
    "for index, nodule in enumerate(patients):    \n",
    "    if nodule == patients[index-1]:\n",
    "        path = data_dir + '6. Clean Crop/' + nodule + '_2_cropped.tiff'\n",
    "    else:\n",
    "        path = data_dir + '6. Clean Crop/' + nodule + '_cropped.tiff'\n",
    "\n",
    "    # read nodule image as array of numbers\n",
    "    nodule_nums = cv2.imread(path, cv2.IMREAD_GRAYSCALE)\n",
    "\n",
    "    # Feature extraction\n",
    "    pixel_count_feat = pixel_count(nodule_nums)\n",
    "    \n",
    "    glcm_feat = glcm_feat_extraction(nodule_nums)\n",
    "    glcm_feat = flatten(glcm_feat)\n",
    "    \n",
    "    LBP_feat = LBP_feat_extraction(nodule_nums)\n",
    "    F13 = feature.haralick(nodule_nums).mean(0).tolist()\n",
    "    \n",
    "    # store features in temp numpy array\n",
    "    feat_array.append((pixel_count_feat + glcm_feat + LBP_feat))\n",
    "    \n",
    "    #feat_array.append((glcm_feat + LBP_feat + F13))\n",
    "    #feat_array.append((pixel_count_feat + glcm_feat + LBP_feat + F13))"
   ]
  },
  {
   "cell_type": "markdown",
   "metadata": {},
   "source": [
    "## Save feature array in dataframe"
   ]
  },
  {
   "cell_type": "code",
   "execution_count": 5,
   "metadata": {},
   "outputs": [
    {
     "data": {
      "text/html": [
       "<div>\n",
       "<style scoped>\n",
       "    .dataframe tbody tr th:only-of-type {\n",
       "        vertical-align: middle;\n",
       "    }\n",
       "\n",
       "    .dataframe tbody tr th {\n",
       "        vertical-align: top;\n",
       "    }\n",
       "\n",
       "    .dataframe thead th {\n",
       "        text-align: right;\n",
       "    }\n",
       "</style>\n",
       "<table border=\"1\" class=\"dataframe\">\n",
       "  <thead>\n",
       "    <tr style=\"text-align: right;\">\n",
       "      <th></th>\n",
       "      <th>Number of Pixels</th>\n",
       "      <th>GLCM Contrast</th>\n",
       "      <th>GLCMHomogeneity</th>\n",
       "      <th>GLCM ASM</th>\n",
       "      <th>GLCM Energy</th>\n",
       "      <th>LBP Energy</th>\n",
       "    </tr>\n",
       "  </thead>\n",
       "  <tbody>\n",
       "    <tr>\n",
       "      <th>0</th>\n",
       "      <td>13</td>\n",
       "      <td>37.8</td>\n",
       "      <td>1.0</td>\n",
       "      <td>1.0</td>\n",
       "      <td>1.0</td>\n",
       "      <td>1.0</td>\n",
       "    </tr>\n",
       "    <tr>\n",
       "      <th>1</th>\n",
       "      <td>21</td>\n",
       "      <td>56.2</td>\n",
       "      <td>1.0</td>\n",
       "      <td>1.0</td>\n",
       "      <td>1.0</td>\n",
       "      <td>1.0</td>\n",
       "    </tr>\n",
       "    <tr>\n",
       "      <th>2</th>\n",
       "      <td>295</td>\n",
       "      <td>181.4</td>\n",
       "      <td>0.9</td>\n",
       "      <td>0.8</td>\n",
       "      <td>0.9</td>\n",
       "      <td>0.9</td>\n",
       "    </tr>\n",
       "    <tr>\n",
       "      <th>3</th>\n",
       "      <td>482</td>\n",
       "      <td>470.2</td>\n",
       "      <td>0.9</td>\n",
       "      <td>0.8</td>\n",
       "      <td>0.9</td>\n",
       "      <td>0.9</td>\n",
       "    </tr>\n",
       "    <tr>\n",
       "      <th>4</th>\n",
       "      <td>634</td>\n",
       "      <td>215.1</td>\n",
       "      <td>0.8</td>\n",
       "      <td>0.7</td>\n",
       "      <td>0.8</td>\n",
       "      <td>0.9</td>\n",
       "    </tr>\n",
       "  </tbody>\n",
       "</table>\n",
       "</div>"
      ],
      "text/plain": [
       "   Number of Pixels  GLCM Contrast   GLCMHomogeneity   GLCM ASM  GLCM Energy  \\\n",
       "0                13           37.8               1.0        1.0          1.0   \n",
       "1                21           56.2               1.0        1.0          1.0   \n",
       "2               295          181.4               0.9        0.8          0.9   \n",
       "3               482          470.2               0.9        0.8          0.9   \n",
       "4               634          215.1               0.8        0.7          0.8   \n",
       "\n",
       "   LBP Energy  \n",
       "0         1.0  \n",
       "1         1.0  \n",
       "2         0.9  \n",
       "3         0.9  \n",
       "4         0.9  "
      ]
     },
     "execution_count": 5,
     "metadata": {},
     "output_type": "execute_result"
    }
   ],
   "source": [
    "# Convert numpy array to pandas dataframe\n",
    "feat_array_full = np.array(feat_array)\n",
    "feat_df = pd.DataFrame(feat_array)\n",
    "\n",
    "feat_df.columns = ['Number of Pixels' ,'GLCM Contrast', ' GLCMHomogeneity', ' GLCM ASM', 'GLCM Energy', 'LBP Energy']\n",
    "\n",
    "feat_df.info\n",
    "# write dataframe to .csv file\n",
    "#feat_df.to_csv(data_dir + 'Features Dataframe.csv')\n",
    "feat_df.round(1).head()"
   ]
  },
  {
   "cell_type": "markdown",
   "metadata": {},
   "source": [
    "# 4. Data Preprocessing\n",
    "\n",
    "## Standardize features\n",
    "Centers the values so that the mean for each feature is zero and scales to features to unit variance. This is done to remove bias in the data that would otherwise have different scales.\n",
    "\n",
    "[Scaling docs](http://benalexkeen.com/feature-scaling-with-scikit-learn/)"
   ]
  },
  {
   "cell_type": "code",
   "execution_count": 6,
   "metadata": {},
   "outputs": [
    {
     "data": {
      "text/html": [
       "<div>\n",
       "<style scoped>\n",
       "    .dataframe tbody tr th:only-of-type {\n",
       "        vertical-align: middle;\n",
       "    }\n",
       "\n",
       "    .dataframe tbody tr th {\n",
       "        vertical-align: top;\n",
       "    }\n",
       "\n",
       "    .dataframe thead th {\n",
       "        text-align: right;\n",
       "    }\n",
       "</style>\n",
       "<table border=\"1\" class=\"dataframe\">\n",
       "  <thead>\n",
       "    <tr style=\"text-align: right;\">\n",
       "      <th></th>\n",
       "      <th>Number of Pixels</th>\n",
       "      <th>GLCM Contrast</th>\n",
       "      <th>GLCMHomogeneity</th>\n",
       "      <th>GLCM ASM</th>\n",
       "      <th>GLCM Energy</th>\n",
       "      <th>LBP Energy</th>\n",
       "    </tr>\n",
       "  </thead>\n",
       "  <tbody>\n",
       "    <tr>\n",
       "      <th>0</th>\n",
       "      <td>-1.17</td>\n",
       "      <td>-1.00</td>\n",
       "      <td>1.20</td>\n",
       "      <td>1.33</td>\n",
       "      <td>1.20</td>\n",
       "      <td>1.62</td>\n",
       "    </tr>\n",
       "    <tr>\n",
       "      <th>1</th>\n",
       "      <td>-1.14</td>\n",
       "      <td>-0.94</td>\n",
       "      <td>1.17</td>\n",
       "      <td>1.30</td>\n",
       "      <td>1.18</td>\n",
       "      <td>1.54</td>\n",
       "    </tr>\n",
       "    <tr>\n",
       "      <th>2</th>\n",
       "      <td>-0.37</td>\n",
       "      <td>-0.53</td>\n",
       "      <td>0.24</td>\n",
       "      <td>0.26</td>\n",
       "      <td>0.29</td>\n",
       "      <td>0.69</td>\n",
       "    </tr>\n",
       "    <tr>\n",
       "      <th>3</th>\n",
       "      <td>0.16</td>\n",
       "      <td>0.43</td>\n",
       "      <td>-0.12</td>\n",
       "      <td>-0.19</td>\n",
       "      <td>-0.12</td>\n",
       "      <td>0.20</td>\n",
       "    </tr>\n",
       "    <tr>\n",
       "      <th>4</th>\n",
       "      <td>0.58</td>\n",
       "      <td>-0.42</td>\n",
       "      <td>-0.53</td>\n",
       "      <td>-0.67</td>\n",
       "      <td>-0.58</td>\n",
       "      <td>-0.54</td>\n",
       "    </tr>\n",
       "  </tbody>\n",
       "</table>\n",
       "</div>"
      ],
      "text/plain": [
       "   Number of Pixels  GLCM Contrast   GLCMHomogeneity   GLCM ASM  GLCM Energy  \\\n",
       "0             -1.17          -1.00              1.20       1.33         1.20   \n",
       "1             -1.14          -0.94              1.17       1.30         1.18   \n",
       "2             -0.37          -0.53              0.24       0.26         0.29   \n",
       "3              0.16           0.43             -0.12      -0.19        -0.12   \n",
       "4              0.58          -0.42             -0.53      -0.67        -0.58   \n",
       "\n",
       "   LBP Energy  \n",
       "0        1.62  \n",
       "1        1.54  \n",
       "2        0.69  \n",
       "3        0.20  \n",
       "4       -0.54  "
      ]
     },
     "execution_count": 6,
     "metadata": {},
     "output_type": "execute_result"
    }
   ],
   "source": [
    "# \"Standardize features by removing the mean and scaling to unit variance\"\n",
    "scaler = preprocessing.StandardScaler()\n",
    "feat_scaled = scaler.fit_transform(feat_array_full)\n",
    "\n",
    "feat_scaled_df = pd.DataFrame(feat_scaled)\n",
    "\n",
    "feat_scaled_df.columns = ['Number of Pixels', 'GLCM Contrast', ' GLCMHomogeneity', ' GLCM ASM', 'GLCM Energy', 'LBP Energy']\n",
    "\n",
    "feat_scaled_df.round(2).head()"
   ]
  },
  {
   "cell_type": "markdown",
   "metadata": {},
   "source": [
    "# 5. Principle Component Analysis (PCA)\n",
    "A way to deal with overfitting is to use PCA to reduce the number of features and keep the most relevant. Using PCA, the number of features will be reduced from 6 to 4."
   ]
  },
  {
   "cell_type": "code",
   "execution_count": 7,
   "metadata": {},
   "outputs": [
    {
     "name": "stdout",
     "output_type": "stream",
     "text": [
      "PCA explained variance: [5.5469172  0.43565127 0.08089857 0.00795642]\n"
     ]
    }
   ],
   "source": [
    "# Instantiate PCA\n",
    "pca = PCA(n_components=4, whiten=True) # was 4 with all features\n",
    "\n",
    "# Run PCA on the data\n",
    "feat_reduc = pca.fit(feat_scaled_df).transform(feat_scaled_df)\n",
    "\n",
    "print(f'PCA explained variance: {pca.explained_variance_}')"
   ]
  },
  {
   "cell_type": "markdown",
   "metadata": {},
   "source": [
    "## Store values in dataframe"
   ]
  },
  {
   "cell_type": "code",
   "execution_count": 8,
   "metadata": {},
   "outputs": [
    {
     "data": {
      "text/html": [
       "<div>\n",
       "<style scoped>\n",
       "    .dataframe tbody tr th:only-of-type {\n",
       "        vertical-align: middle;\n",
       "    }\n",
       "\n",
       "    .dataframe tbody tr th {\n",
       "        vertical-align: top;\n",
       "    }\n",
       "\n",
       "    .dataframe thead th {\n",
       "        text-align: right;\n",
       "    }\n",
       "</style>\n",
       "<table border=\"1\" class=\"dataframe\">\n",
       "  <thead>\n",
       "    <tr style=\"text-align: right;\">\n",
       "      <th></th>\n",
       "      <th>0</th>\n",
       "      <th>1</th>\n",
       "      <th>2</th>\n",
       "      <th>3</th>\n",
       "    </tr>\n",
       "  </thead>\n",
       "  <tbody>\n",
       "    <tr>\n",
       "      <th>0</th>\n",
       "      <td>-1.306392</td>\n",
       "      <td>-0.077998</td>\n",
       "      <td>1.397973</td>\n",
       "      <td>1.067861</td>\n",
       "    </tr>\n",
       "    <tr>\n",
       "      <th>1</th>\n",
       "      <td>-1.265583</td>\n",
       "      <td>-0.119974</td>\n",
       "      <td>1.226719</td>\n",
       "      <td>1.059346</td>\n",
       "    </tr>\n",
       "    <tr>\n",
       "      <th>2</th>\n",
       "      <td>-0.404961</td>\n",
       "      <td>0.290080</td>\n",
       "      <td>1.318471</td>\n",
       "      <td>-0.849168</td>\n",
       "    </tr>\n",
       "    <tr>\n",
       "      <th>3</th>\n",
       "      <td>0.132183</td>\n",
       "      <td>-0.547454</td>\n",
       "      <td>0.997631</td>\n",
       "      <td>-0.567614</td>\n",
       "    </tr>\n",
       "    <tr>\n",
       "      <th>4</th>\n",
       "      <td>0.461200</td>\n",
       "      <td>1.245188</td>\n",
       "      <td>0.238197</td>\n",
       "      <td>-1.528097</td>\n",
       "    </tr>\n",
       "  </tbody>\n",
       "</table>\n",
       "</div>"
      ],
      "text/plain": [
       "          0         1         2         3\n",
       "0 -1.306392 -0.077998  1.397973  1.067861\n",
       "1 -1.265583 -0.119974  1.226719  1.059346\n",
       "2 -0.404961  0.290080  1.318471 -0.849168\n",
       "3  0.132183 -0.547454  0.997631 -0.567614\n",
       "4  0.461200  1.245188  0.238197 -1.528097"
      ]
     },
     "execution_count": 8,
     "metadata": {},
     "output_type": "execute_result"
    }
   ],
   "source": [
    "feat_reduc_df = pd.DataFrame(feat_reduc)\n",
    "feat_reduc_df.head()"
   ]
  },
  {
   "cell_type": "markdown",
   "metadata": {},
   "source": [
    "# 6. Append Truth Values to Dataframe\n",
    "Adds a truth column containing the variable to predict:\n",
    "> - 0: benign nodule\n",
    "> - 1: malignant nodule"
   ]
  },
  {
   "cell_type": "code",
   "execution_count": 9,
   "metadata": {},
   "outputs": [
    {
     "data": {
      "text/html": [
       "<div>\n",
       "<style scoped>\n",
       "    .dataframe tbody tr th:only-of-type {\n",
       "        vertical-align: middle;\n",
       "    }\n",
       "\n",
       "    .dataframe tbody tr th {\n",
       "        vertical-align: top;\n",
       "    }\n",
       "\n",
       "    .dataframe thead th {\n",
       "        text-align: right;\n",
       "    }\n",
       "</style>\n",
       "<table border=\"1\" class=\"dataframe\">\n",
       "  <thead>\n",
       "    <tr style=\"text-align: right;\">\n",
       "      <th></th>\n",
       "      <th>0</th>\n",
       "      <th>1</th>\n",
       "      <th>2</th>\n",
       "      <th>3</th>\n",
       "      <th>Truth</th>\n",
       "    </tr>\n",
       "  </thead>\n",
       "  <tbody>\n",
       "    <tr>\n",
       "      <th>0</th>\n",
       "      <td>-1.306392</td>\n",
       "      <td>-0.077998</td>\n",
       "      <td>1.397973</td>\n",
       "      <td>1.067861</td>\n",
       "      <td>0</td>\n",
       "    </tr>\n",
       "    <tr>\n",
       "      <th>1</th>\n",
       "      <td>-1.265583</td>\n",
       "      <td>-0.119974</td>\n",
       "      <td>1.226719</td>\n",
       "      <td>1.059346</td>\n",
       "      <td>0</td>\n",
       "    </tr>\n",
       "    <tr>\n",
       "      <th>2</th>\n",
       "      <td>-0.404961</td>\n",
       "      <td>0.290080</td>\n",
       "      <td>1.318471</td>\n",
       "      <td>-0.849168</td>\n",
       "      <td>0</td>\n",
       "    </tr>\n",
       "    <tr>\n",
       "      <th>3</th>\n",
       "      <td>0.132183</td>\n",
       "      <td>-0.547454</td>\n",
       "      <td>0.997631</td>\n",
       "      <td>-0.567614</td>\n",
       "      <td>0</td>\n",
       "    </tr>\n",
       "    <tr>\n",
       "      <th>4</th>\n",
       "      <td>0.461200</td>\n",
       "      <td>1.245188</td>\n",
       "      <td>0.238197</td>\n",
       "      <td>-1.528097</td>\n",
       "      <td>0</td>\n",
       "    </tr>\n",
       "  </tbody>\n",
       "</table>\n",
       "</div>"
      ],
      "text/plain": [
       "          0         1         2         3  Truth\n",
       "0 -1.306392 -0.077998  1.397973  1.067861      0\n",
       "1 -1.265583 -0.119974  1.226719  1.059346      0\n",
       "2 -0.404961  0.290080  1.318471 -0.849168      0\n",
       "3  0.132183 -0.547454  0.997631 -0.567614      0\n",
       "4  0.461200  1.245188  0.238197 -1.528097      0"
      ]
     },
     "execution_count": 9,
     "metadata": {},
     "output_type": "execute_result"
    }
   ],
   "source": [
    "## adding truth column to x_df\n",
    "coordinates_df.replace({'Diagnosis' : {'benign':0, 'Benign nodule':0, 'malignant':1, 'Primary lung cancer':1,\n",
    "                                                        'Primary lung cancer ':1, 'Suspicious malignant nodule':1}}, inplace=True)\n",
    "\n",
    "# Combining non-rotation truth values into truth_column\n",
    "truth_column_no_rota = coordinates_df['Diagnosis']\n",
    "feat_reduc_df['Truth'] = truth_column_no_rota\n",
    "\n",
    "feat_reduc_df.head()"
   ]
  },
  {
   "cell_type": "markdown",
   "metadata": {},
   "source": [
    "# 7. Support Vector Machine (SVM) Algorithm"
   ]
  },
  {
   "cell_type": "markdown",
   "metadata": {},
   "source": [
    "## Use GridSearchCV\n",
    "Finds the best hyperparameters to use for the SVM algorithm."
   ]
  },
  {
   "cell_type": "code",
   "execution_count": 10,
   "metadata": {},
   "outputs": [],
   "source": [
    "# split dataframe into feature (X) and truth label (y) datasets\n",
    "X = feat_reduc_df[feat_reduc_df.columns[:-1]]\n",
    "y = feat_reduc_df['Truth']"
   ]
  },
  {
   "cell_type": "code",
   "execution_count": 11,
   "metadata": {},
   "outputs": [
    {
     "name": "stderr",
     "output_type": "stream",
     "text": [
      "C:\\Users\\moogl\\Anaconda3\\lib\\site-packages\\sklearn\\model_selection\\_search.py:813: DeprecationWarning: The default of the `iid` parameter will change from True to False in version 0.22 and will be removed in 0.24. This will change numeric results when test-set sizes are unequal.\n",
      "  DeprecationWarning)\n"
     ]
    },
    {
     "data": {
      "text/plain": [
       "{'C': 1, 'gamma': 1, 'probability': True}"
      ]
     },
     "execution_count": 11,
     "metadata": {},
     "output_type": "execute_result"
    }
   ],
   "source": [
    "# thanks to: https://medium.com/@aneesha/svm-parameter-tuning-in-scikit-learn-using-gridsearchcv-2413c02125a0\n",
    "def svc_param_selection(X, y, nfolds):\n",
    "    Cs = [0.001, 0.01, 0.1, 1, 10]\n",
    "    gammas = [0.001, 0.01, 0.1, 1, 'auto', 'scale']\n",
    "    param_grid = {'C': Cs, 'gamma' : gammas, 'probability': [True, False]}\n",
    "    grid_search = GridSearchCV(svm.SVC(kernel='rbf'), param_grid, cv=nfolds)\n",
    "    grid_search.fit(X, y)\n",
    "    grid_search.best_params_\n",
    "    return grid_search.best_params_\n",
    "\n",
    "# Run GridSearchCV with 8 folds cross validation using SVM as the estimator\n",
    "svc_param_selection(X, y, 8)"
   ]
  },
  {
   "cell_type": "markdown",
   "metadata": {},
   "source": [
    "## Initialize SVM with the best hyperparameters"
   ]
  },
  {
   "cell_type": "code",
   "execution_count": 12,
   "metadata": {},
   "outputs": [
    {
     "name": "stdout",
     "output_type": "stream",
     "text": [
      "\n",
      " SVC(C=1, cache_size=200, class_weight=None, coef0=0.0,\n",
      "    decision_function_shape='ovr', degree=3, gamma='scale', kernel='rbf',\n",
      "    max_iter=-1, probability=True, random_state=None, shrinking=True, tol=0.001,\n",
      "    verbose=False)\n"
     ]
    }
   ],
   "source": [
    "# initialize SVM\n",
    "clf = svm.SVC(C=1 ,kernel='rbf', gamma='scale', probability=True)\n",
    "print(\"\\n\", clf)"
   ]
  },
  {
   "cell_type": "markdown",
   "metadata": {},
   "source": [
    "# 8. Model Evaluation\n",
    "\n",
    "## Stratified K-Fold and ROC\n",
    "Use 8 folds and to be used in the ROC curve"
   ]
  },
  {
   "cell_type": "code",
   "execution_count": 13,
   "metadata": {},
   "outputs": [],
   "source": [
    "# implement stratified k-fold\n",
    "skf = StratifiedKFold(n_splits=8)"
   ]
  },
  {
   "cell_type": "code",
   "execution_count": 14,
   "metadata": {},
   "outputs": [
    {
     "data": {
      "image/png": "[encoded data removed]",
      "text/plain": [
       "<Figure size 432x288 with 1 Axes>"
      ]
     },
     "metadata": {
      "needs_background": "light"
     },
     "output_type": "display_data"
    }
   ],
   "source": [
    "tprs = []\n",
    "aucs = []\n",
    "mean_fpr = np.linspace(0, 1, 100)\n",
    "\n",
    "i = 0\n",
    "for train, test in skf.split(X, y):\n",
    "    probas_ = clf.fit(X.iloc[train], y.iloc[train]).predict_proba(X.iloc[test])\n",
    "    # Compute ROC curve and AUC\n",
    "    fpr, tpr, thresholds = roc_curve(y[test], probas_[:, 1])\n",
    "    tprs.append(interp(mean_fpr, fpr, tpr))\n",
    "    tprs[-1][0] = 0.0\n",
    "    roc_auc = auc(fpr, tpr)\n",
    "    aucs.append(roc_auc)\n",
    "    plt.plot(fpr, tpr, lw=1, alpha=0.3,\n",
    "             label='ROC fold %d (AUC = %0.2f)' % (i, roc_auc))\n",
    "    i += 1\n",
    "\n",
    "plt.plot([0, 1], [0, 1], linestyle='--', lw=2, color='r',\n",
    "         label='Chance', alpha=0.8)\n",
    "\n",
    "mean_tpr = np.mean(tprs, axis=0)\n",
    "mean_tpr[-1] = 1.0\n",
    "mean_auc = auc(mean_fpr, mean_tpr)\n",
    "std_auc = np.std(aucs)\n",
    "plt.plot(mean_fpr, mean_tpr, color='b',\n",
    "          label=r'Mean ROC (AUC = %0.2f $\\pm$ %0.2f)' % (mean_auc, std_auc),\n",
    "          lw=2, alpha=0.8)\n",
    "\n",
    "std_tpr = np.std(tprs, axis=0)\n",
    "tprs_upper = np.minimum(mean_tpr + std_tpr, 1)\n",
    "tprs_lower = np.maximum(mean_tpr - std_tpr, 0)\n",
    "plt.fill_between(mean_fpr, tprs_lower, tprs_upper, color='grey', alpha=0.2,\n",
    "                 label=r'$\\pm$ 1 std. dev.')\n",
    "\n",
    "plt.xlim([-0.05, 1.05])\n",
    "plt.ylim([-0.05, 1.05])\n",
    "plt.xlabel('False Positive Rate')\n",
    "plt.ylabel('True Positive Rate')\n",
    "plt.title('Receiver operating characteristic')\n",
    "plt.legend(bbox_to_anchor=(1.1, 1.05))\n",
    "plt.show()"
   ]
  },
  {
   "cell_type": "markdown",
   "metadata": {},
   "source": [
    "## To get a better measure of the AUC, run the above multiple times"
   ]
  },
  {
   "cell_type": "code",
   "execution_count": 15,
   "metadata": {},
   "outputs": [
    {
     "name": "stdout",
     "output_type": "stream",
     "text": [
      "Average AUC over 1000 epochs: 0.7235709493929189\n"
     ]
    }
   ],
   "source": [
    "auc_list = []\n",
    "\n",
    "for epoch in range(0, 1000):\n",
    "\n",
    "    tprs = []\n",
    "    aucs = []\n",
    "    mean_fpr = np.linspace(0, 1, 100)\n",
    "\n",
    "    i = 0\n",
    "    for train, test in skf.split(X, y):\n",
    "        probas_ = clf.fit(X.iloc[train], y.iloc[train]).predict_proba(X.iloc[test])\n",
    "        # Compute ROC curve and AUC\n",
    "        fpr, tpr, thresholds = roc_curve(y[test], probas_[:, 1])\n",
    "        tprs.append(interp(mean_fpr, fpr, tpr))\n",
    "        tprs[-1][0] = 0.0\n",
    "        roc_auc = auc(fpr, tpr)\n",
    "        aucs.append(roc_auc)\n",
    "        i += 1\n",
    "\n",
    "    mean_tpr = np.mean(tprs, axis=0)\n",
    "    mean_tpr[-1] = 1.0\n",
    "    mean_auc = auc(mean_fpr, mean_tpr)\n",
    "    std_auc = np.std(aucs)\n",
    "\n",
    "    std_tpr = np.std(tprs, axis=0)\n",
    "    tprs_upper = np.minimum(mean_tpr + std_tpr, 1)\n",
    "    tprs_lower = np.maximum(mean_tpr - std_tpr, 0)\n",
    "    \n",
    "    auc_list.append(mean_auc)\n",
    "\n",
    "average_auc = np.mean(auc_list)\n",
    "print(f'Average AUC over 1000 epochs: {average_auc}')"
   ]
  }
 ],
 "metadata": {
  "kernelspec": {
   "display_name": "Python 3",
   "language": "python",
   "name": "python3"
  },
  "language_info": {
   "codemirror_mode": {
    "name": "ipython",
    "version": 3
   },
   "file_extension": ".py",
   "mimetype": "text/x-python",
   "name": "python",
   "nbconvert_exporter": "python",
   "pygments_lexer": "ipython3",
   "version": "3.6.9"
  }
 },
 "nbformat": 4,
 "nbformat_minor": 4
}
